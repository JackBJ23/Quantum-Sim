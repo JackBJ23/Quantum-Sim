{
  "nbformat": 4,
  "nbformat_minor": 0,
  "metadata": {
    "colab": {
      "provenance": [],
      "machine_shape": "hm"
    },
    "kernelspec": {
      "name": "python3",
      "display_name": "Python 3"
    },
    "language_info": {
      "name": "python"
    }
  },
  "cells": [
    {
      "cell_type": "markdown",
      "source": [
        "This file provides the main code for running experiments with the Quantum-Sim library (simulations for comparing the quantum-inspired and classical methods to the analytical solution; simulations with higher precision operators, and simulations beyond the classical limit)."
      ],
      "metadata": {
        "id": "sE6E9IQjvBlI"
      }
    },
    {
      "cell_type": "markdown",
      "source": [
        "Step 1. Clone the repository"
      ],
      "metadata": {
        "id": "iw5S6z45-W-9"
      }
    },
    {
      "cell_type": "code",
      "execution_count": null,
      "metadata": {
        "id": "94V7UMQC93-i"
      },
      "outputs": [],
      "source": [
        "!git clone https://github.com/JackBJ23/Quantum-Sim.git\n",
        "%cd Quantum-Sim\n",
        "!pip install -r requirements.txt"
      ]
    },
    {
      "cell_type": "markdown",
      "source": [
        "Step 2. Import packages and the main functions"
      ],
      "metadata": {
        "id": "Nu-RnUDj-aKb"
      }
    },
    {
      "cell_type": "code",
      "source": [
        "import math\n",
        "import numpy as np\n",
        "# to import the quantumsim library:\n",
        "import quantumsim\n",
        "# tools for simulations:\n",
        "from quantumsim import get_analytical_qi_euler, get_analytical_qi_euler_hn, quantum_simulator_hp, quantum_simulator_nonclassic\n",
        "# tools for visualization:\n",
        "from quantumsim import get_video, get_video_nonclassic"
      ],
      "metadata": {
        "id": "5cG41_45-Bvu"
      },
      "execution_count": null,
      "outputs": []
    },
    {
      "cell_type": "markdown",
      "source": [
        "Step 3. Run the simulations"
      ],
      "metadata": {
        "id": "YPDNrSsw-dyR"
      }
    },
    {
      "cell_type": "markdown",
      "source": [
        "3.1. For N<=14, do:"
      ],
      "metadata": {
        "id": "ewC62ifm-szG"
      }
    },
    {
      "cell_type": "code",
      "source": [
        "# set hyperparameters:\n",
        "N = 14\n",
        "b = 10. * 2**(N-10)\n",
        "T = 1.\n",
        "timesteps = 30\n",
        "v = 15.\n",
        "σ = 1.0\n",
        "mbds = [12,16,20,24]\n",
        "x = np.linspace(-b, b, 2**N)\n",
        "times = np.linspace(0, T, timesteps)\n",
        "# run the simulations:\n",
        "functions_qi, function_euler, ψ_analytical = get_analytical_qi_euler(N, b, T, steps=timesteps, v=v, σ=σ, mbds=mbds)\n",
        "# generate the video:\n",
        "get_video(x, functions_qi, function_euler, ψ_analytical, 500, f'video_N{N}.gif')"
      ],
      "metadata": {
        "id": "QA0xsRRe-fxG"
      },
      "execution_count": null,
      "outputs": []
    },
    {
      "cell_type": "markdown",
      "source": [
        "3.2. For a more general utilization (N<=23), do:"
      ],
      "metadata": {
        "id": "HoYLn4bp_MDm"
      }
    },
    {
      "cell_type": "code",
      "source": [
        "# set hyperparameters:\n",
        "N = 16\n",
        "b = 10. * 2**(N-10)\n",
        "T = 1.\n",
        "timesteps = 30\n",
        "v = 15.\n",
        "σ = 1.0\n",
        "mbds = [12,16,20,24]\n",
        "x = np.linspace(-b, b, 2**N)\n",
        "times = np.linspace(0, T, timesteps)\n",
        "# run the simulations:\n",
        "functions_qi, function_euler, ψ_analytical = get_analytical_qi_euler_hn(N, b, T, steps=timesteps, v=v, σ=σ, mbds=mbds)\n",
        "# generate the video:\n",
        "get_video(x, functions_qi, function_euler, ψ_analytical, 500, f'video_N{N}.gif')"
      ],
      "metadata": {
        "id": "YUgiooHg_Q9L"
      },
      "execution_count": null,
      "outputs": []
    },
    {
      "cell_type": "markdown",
      "source": [
        "3.3. For higher-precision simulations, do:"
      ],
      "metadata": {
        "id": "OqeiufwPJSrU"
      }
    },
    {
      "cell_type": "code",
      "source": [
        "# set hyperparameters:\n",
        "N = 12\n",
        "b = 10. * 2**(N-10)\n",
        "T = 1.\n",
        "timesteps = 30\n",
        "v = 15.\n",
        "σ = 1.0\n",
        "# general code for running the simulation for multiple MBDs:\n",
        "mbds = [12,16,20,24]\n",
        "errors_qi, errors_euler = [], []\n",
        "for mbd in mbds:\n",
        "  e1, e2 = quantum_simulator_hp(N, T, timesteps, v=v, σ=σ, mbd=mbd)\n",
        "  errors_qi.append(e1)\n",
        "  errors_euler.append(e2)\n",
        "# the simulations for the first-order QI are run separately, and the errors are used to generate figures"
      ],
      "metadata": {
        "id": "gUsEhGIPJTTL"
      },
      "execution_count": null,
      "outputs": []
    },
    {
      "cell_type": "markdown",
      "source": [
        "3.4. For non-classical simulations (N>=24), do:"
      ],
      "metadata": {
        "id": "DP_Votrs_gsl"
      }
    },
    {
      "cell_type": "code",
      "source": [
        "from quantumsim import diffusion_analytical\n",
        "\n",
        "# set hyperparameters:\n",
        "N = 24\n",
        "b = 1000.\n",
        "T = 0.02\n",
        "timesteps = 200\n",
        "v = 0.3\n",
        "σ = 1.0\n",
        "scalefactor = 204.8 * 2**(N-12) / 100\n",
        "mbd = 24\n",
        "x = np.linspace(-b, b, 2**N)\n",
        "times = np.linspace(0, T, timesteps)\n",
        "# compute analytical solution at 0:\n",
        "functions_qi = [], []\n",
        "ψ_analytical = np.zeros((timesteps))\n",
        "i = 0\n",
        "for ti in times:\n",
        "  ψ_analytical[i] = diffusion_analytical(ti, 0, σ, v)\n",
        "  i += 1\n",
        "# run the simulation:\n",
        "quantum_simulator_nonclassic(N, scalefactor, x, times, ψ_analytical, b, v, σ=1.0, mbd=mbd)\n",
        "# generate the video:\n",
        "get_video_nonclassic(150, N) # use only the first 150 timesteps"
      ],
      "metadata": {
        "id": "r_C8XFri_j5n"
      },
      "execution_count": null,
      "outputs": []
    }
  ]
}